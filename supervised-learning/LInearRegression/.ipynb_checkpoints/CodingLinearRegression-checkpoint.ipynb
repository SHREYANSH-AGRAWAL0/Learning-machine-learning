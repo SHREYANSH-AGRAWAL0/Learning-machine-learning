{
 "cells": [
  {
   "cell_type": "markdown",
   "id": "0ee03933-1f75-448c-8572-6de89265096b",
   "metadata": {},
   "source": [
    "# Coding Linear Regression for 1 dimenstion dataset"
   ]
  },
  {
   "cell_type": "code",
   "execution_count": 1,
   "id": "4d2c345b-0156-498a-8b29-6d16f1097e07",
   "metadata": {},
   "outputs": [],
   "source": [
    "import numpy as np \n",
    "from sklearn.model_selection import train_test_split"
   ]
  },
  {
   "cell_type": "code",
   "execution_count": 2,
   "id": "4a1a7279-a6a9-4a25-80b0-954db482693f",
   "metadata": {},
   "outputs": [],
   "source": [
    "data=np.loadtxt(\"data.csv\",delimiter=\",\")"
   ]
  },
  {
   "cell_type": "code",
   "execution_count": 3,
   "id": "f57a9f9a-ffb7-4415-9f44-ba014224f455",
   "metadata": {},
   "outputs": [],
   "source": [
    "x=data[:,0]\n",
    "y=data[:,1]"
   ]
  },
  {
   "cell_type": "code",
   "execution_count": 4,
   "id": "14021454-8619-4d97-99f4-50b1dd77fad7",
   "metadata": {},
   "outputs": [
    {
     "data": {
      "text/plain": [
       "(100,)"
      ]
     },
     "execution_count": 4,
     "metadata": {},
     "output_type": "execute_result"
    }
   ],
   "source": [
    "x.shape"
   ]
  },
  {
   "cell_type": "code",
   "execution_count": 5,
   "id": "bd689e44-8a17-4774-878e-7866cf7d58ed",
   "metadata": {},
   "outputs": [],
   "source": [
    "X_train,X_test,Y_train,Y_test=train_test_split(x,y,test_size=0.3)"
   ]
  },
  {
   "cell_type": "code",
   "execution_count": 6,
   "id": "8733af4a-a525-4af8-b84d-f4306282e8b7",
   "metadata": {},
   "outputs": [
    {
     "data": {
      "text/plain": [
       "((70,), (30,))"
      ]
     },
     "execution_count": 6,
     "metadata": {},
     "output_type": "execute_result"
    }
   ],
   "source": [
    "X_train.shape,X_test.shape"
   ]
  },
  {
   "cell_type": "code",
   "execution_count": 7,
   "id": "70330a55-29b5-4cdf-9952-75c0841aefa0",
   "metadata": {},
   "outputs": [],
   "source": [
    "def fit(x_train,y_train):\n",
    "    num=(x_train*y_train).mean()-x_train.mean()*y_train.mean()\n",
    "    den=(x_train**2).mean()-(x_train.mean())**2\n",
    "    m=num/den\n",
    "    c=y_train.mean()-m*x_train.mean()\n",
    "    return m,c"
   ]
  },
  {
   "cell_type": "code",
   "execution_count": 8,
   "id": "1b3717ab-2ac8-419f-8dc3-a28a90a20246",
   "metadata": {},
   "outputs": [],
   "source": [
    "def predict(x,m,c):\n",
    "    return x*m+c"
   ]
  },
  {
   "cell_type": "code",
   "execution_count": 9,
   "id": "2d3b2489-133b-49e1-8ab5-25bf16fda14e",
   "metadata": {},
   "outputs": [],
   "source": [
    "def score(y_truth,y_predict):\n",
    "    num =  ((y_truth-y_predict)**2).sum()\n",
    "    den = ((y_truth-y_truth.mean())**2).sum()\n",
    "    return 1-(num/den)"
   ]
  },
  {
   "cell_type": "code",
   "execution_count": 10,
   "id": "e1cbe8c6-9f5b-4b96-8805-813594c2954d",
   "metadata": {},
   "outputs": [],
   "source": [
    "def cost(x_truth,y_truth,m,c):\n",
    "    return ((y_truth-(m*x_truth+c))**2).mean()"
   ]
  },
  {
   "cell_type": "code",
   "execution_count": 11,
   "id": "98aae897-4d2a-4f82-80bb-f98a92e5aba5",
   "metadata": {},
   "outputs": [
    {
     "name": "stdout",
     "output_type": "stream",
     "text": [
      "Test score 0.5255327522647362\n",
      "Train score 0.6270688092584613\n",
      "M 1.268130756922444\n",
      "C 10.010380671619316\n",
      "Test cost 101.36075792461878\n"
     ]
    }
   ],
   "source": [
    "m,c=fit(X_train,Y_train)\n",
    "\n",
    "# test data\n",
    "Y_test_pred=predict(X_test,m,c)\n",
    "print(\"Test score\",score(Y_test,Y_test_pred))\n",
    "\n",
    "#train data\n",
    "Y_train_pred=predict(X_train,m,c)\n",
    "print(\"Train score\",score(Y_train,Y_train_pred))\n",
    "\n",
    "print(\"M\",m)\n",
    "print(\"C\",c) \n",
    "print(\"Test cost\",cost(X_train,Y_train,m,c))"
   ]
  }
 ],
 "metadata": {
  "kernelspec": {
   "display_name": "Python 3 (ipykernel)",
   "language": "python",
   "name": "python3"
  },
  "language_info": {
   "codemirror_mode": {
    "name": "ipython",
    "version": 3
   },
   "file_extension": ".py",
   "mimetype": "text/x-python",
   "name": "python",
   "nbconvert_exporter": "python",
   "pygments_lexer": "ipython3",
   "version": "3.9.13"
  }
 },
 "nbformat": 4,
 "nbformat_minor": 5
}
