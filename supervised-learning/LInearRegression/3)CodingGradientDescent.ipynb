{
 "cells": [
  {
   "cell_type": "markdown",
   "id": "f115d5ac-1b47-40c6-99dc-6f8cb1d0f8bc",
   "metadata": {},
   "source": [
    "# Coding the Gradient Descent"
   ]
  },
  {
   "cell_type": "code",
   "execution_count": 1,
   "id": "6b66dbec-9cb3-49fb-9681-9e81400ffe76",
   "metadata": {},
   "outputs": [],
   "source": [
    "import numpy as np"
   ]
  },
  {
   "cell_type": "code",
   "execution_count": 2,
   "id": "808a782f-2340-4e51-8552-3ff6691030c2",
   "metadata": {},
   "outputs": [],
   "source": [
    "def step_gradient(points,learning_rate,m,c):\n",
    "    m_slope = 0\n",
    "    c_slope = 0\n",
    "    N = len(points)\n",
    "    for i in range(N):\n",
    "        x = points[i,0]\n",
    "        y = points[i,1]\n",
    "        m_slope += (-2/N)*(y-m*x-c)*x\n",
    "        c_slope += (-2/N)*(y-m*x-c)\n",
    "    new_m = m - learning_rate*m_slope\n",
    "    new_c = m - learning_rate*c_slope\n",
    "    return new_m,new_c"
   ]
  },
  {
   "cell_type": "code",
   "execution_count": 3,
   "id": "86b6f733-9689-4ce8-b323-e6035c0ed6f9",
   "metadata": {},
   "outputs": [],
   "source": [
    "def cost(points,m,c):\n",
    "    total_cost=0\n",
    "    M=len(points)\n",
    "    for i in range(M):\n",
    "        x=points[i,0]\n",
    "        y=points[i,1]\n",
    "        total_cost += (1/M)*((y-m*x-c)**2)\n",
    "    return total_cost"
   ]
  },
  {
   "cell_type": "code",
   "execution_count": 4,
   "id": "ff3b68f9-59a5-4461-9c04-309e89b1c414",
   "metadata": {},
   "outputs": [],
   "source": [
    "def gd(points,learning_rate,num_iterations):\n",
    "    m=0\n",
    "    c=0\n",
    "    for i in range(num_iterations):\n",
    "        m,c=step_gradient(points,learning_rate,m,c)\n",
    "        print(i,\"Cost: \",cost(points,m,c))\n",
    "    return m,c"
   ]
  },
  {
   "cell_type": "code",
   "execution_count": 5,
   "id": "aeefacca-41d5-4d35-bb96-aca2ce51878d",
   "metadata": {},
   "outputs": [],
   "source": [
    "def run():\n",
    "    data = np.loadtxt(\"data.csv\",delimiter=\",\")\n",
    "    learning_rate=0.0001\n",
    "    num_iterations=10\n",
    "    m,c=gd(data,learning_rate,num_iterations)\n",
    "    print(m,c)"
   ]
  },
  {
   "cell_type": "code",
   "execution_count": 6,
   "id": "7150c2f2-fab6-4d47-9e6f-f81c754b2f14",
   "metadata": {},
   "outputs": [
    {
     "name": "stdout",
     "output_type": "stream",
     "text": [
      "0 Cost:  1484.5865574086486\n",
      "1 Cost:  431.60492128270874\n",
      "2 Cost:  186.1547238800284\n",
      "3 Cost:  129.1494917092864\n",
      "4 Cost:  115.90111927885542\n",
      "5 Cost:  112.81670946680758\n",
      "6 Cost:  112.09600540026693\n",
      "7 Cost:  111.92635268257234\n",
      "8 Cost:  111.88581744226782\n",
      "9 Cost:  111.87584782720633\n",
      "1.4499732875694962 1.4489704400093473\n"
     ]
    }
   ],
   "source": [
    "run()"
   ]
  }
 ],
 "metadata": {
  "kernelspec": {
   "display_name": "Python 3 (ipykernel)",
   "language": "python",
   "name": "python3"
  },
  "language_info": {
   "codemirror_mode": {
    "name": "ipython",
    "version": 3
   },
   "file_extension": ".py",
   "mimetype": "text/x-python",
   "name": "python",
   "nbconvert_exporter": "python",
   "pygments_lexer": "ipython3",
   "version": "3.9.13"
  }
 },
 "nbformat": 4,
 "nbformat_minor": 5
}
